{
 "cells": [
  {
   "cell_type": "code",
   "execution_count": 1,
   "id": "5fd408a5",
   "metadata": {},
   "outputs": [],
   "source": [
    "import pandas as pd\n",
    "import numpy as np"
   ]
  },
  {
   "cell_type": "code",
   "execution_count": 74,
   "id": "72334557",
   "metadata": {},
   "outputs": [],
   "source": [
    "# Import Files into DataFrame\n",
    "df = pd.read_csv(\"C:/Users/pjpra/OneDrive/Desktop/My_Learnings/Python/Task5/takehome_users.csv\",encoding = \"ISO-8859-1\")\n",
    "df2 = pd.read_csv(\"takehome_user_engagement.csv\")"
   ]
  },
  {
   "cell_type": "code",
   "execution_count": 77,
   "id": "bbb314c8",
   "metadata": {},
   "outputs": [
    {
     "data": {
      "text/html": [
       "<div>\n",
       "<style scoped>\n",
       "    .dataframe tbody tr th:only-of-type {\n",
       "        vertical-align: middle;\n",
       "    }\n",
       "\n",
       "    .dataframe tbody tr th {\n",
       "        vertical-align: top;\n",
       "    }\n",
       "\n",
       "    .dataframe thead th {\n",
       "        text-align: right;\n",
       "    }\n",
       "</style>\n",
       "<table border=\"1\" class=\"dataframe\">\n",
       "  <thead>\n",
       "    <tr style=\"text-align: right;\">\n",
       "      <th></th>\n",
       "      <th>time_stamp</th>\n",
       "      <th>user_id</th>\n",
       "      <th>visited</th>\n",
       "    </tr>\n",
       "  </thead>\n",
       "  <tbody>\n",
       "    <tr>\n",
       "      <th>0</th>\n",
       "      <td>2014-04-22 03:53:30</td>\n",
       "      <td>1</td>\n",
       "      <td>1</td>\n",
       "    </tr>\n",
       "    <tr>\n",
       "      <th>1</th>\n",
       "      <td>2013-11-15 03:45:04</td>\n",
       "      <td>2</td>\n",
       "      <td>1</td>\n",
       "    </tr>\n",
       "    <tr>\n",
       "      <th>2</th>\n",
       "      <td>2013-11-29 03:45:04</td>\n",
       "      <td>2</td>\n",
       "      <td>1</td>\n",
       "    </tr>\n",
       "    <tr>\n",
       "      <th>3</th>\n",
       "      <td>2013-12-09 03:45:04</td>\n",
       "      <td>2</td>\n",
       "      <td>1</td>\n",
       "    </tr>\n",
       "    <tr>\n",
       "      <th>4</th>\n",
       "      <td>2013-12-25 03:45:04</td>\n",
       "      <td>2</td>\n",
       "      <td>1</td>\n",
       "    </tr>\n",
       "  </tbody>\n",
       "</table>\n",
       "</div>"
      ],
      "text/plain": [
       "            time_stamp  user_id  visited\n",
       "0  2014-04-22 03:53:30        1        1\n",
       "1  2013-11-15 03:45:04        2        1\n",
       "2  2013-11-29 03:45:04        2        1\n",
       "3  2013-12-09 03:45:04        2        1\n",
       "4  2013-12-25 03:45:04        2        1"
      ]
     },
     "execution_count": 77,
     "metadata": {},
     "output_type": "execute_result"
    }
   ],
   "source": [
    "# User Engagement Data Frame\n",
    "df2.describe()\n",
    "df2.head()"
   ]
  },
  {
   "cell_type": "code",
   "execution_count": 78,
   "id": "802f8854",
   "metadata": {},
   "outputs": [
    {
     "data": {
      "text/html": [
       "<div>\n",
       "<style scoped>\n",
       "    .dataframe tbody tr th:only-of-type {\n",
       "        vertical-align: middle;\n",
       "    }\n",
       "\n",
       "    .dataframe tbody tr th {\n",
       "        vertical-align: top;\n",
       "    }\n",
       "\n",
       "    .dataframe thead th {\n",
       "        text-align: right;\n",
       "    }\n",
       "</style>\n",
       "<table border=\"1\" class=\"dataframe\">\n",
       "  <thead>\n",
       "    <tr style=\"text-align: right;\">\n",
       "      <th></th>\n",
       "      <th>object_id</th>\n",
       "      <th>creation_time</th>\n",
       "      <th>name</th>\n",
       "      <th>email</th>\n",
       "      <th>creation_source</th>\n",
       "      <th>last_session_creation_time</th>\n",
       "      <th>opted_in_to_mailing_list</th>\n",
       "      <th>enabled_for_marketing_drip</th>\n",
       "      <th>org_id</th>\n",
       "      <th>invited_by_user_id</th>\n",
       "    </tr>\n",
       "  </thead>\n",
       "  <tbody>\n",
       "    <tr>\n",
       "      <th>0</th>\n",
       "      <td>1</td>\n",
       "      <td>22-04-2014 03:53</td>\n",
       "      <td>Clausen August</td>\n",
       "      <td>AugustCClausen@yahoo.com</td>\n",
       "      <td>GUEST_INVITE</td>\n",
       "      <td>1.398139e+09</td>\n",
       "      <td>1</td>\n",
       "      <td>0</td>\n",
       "      <td>11</td>\n",
       "      <td>10803.0</td>\n",
       "    </tr>\n",
       "    <tr>\n",
       "      <th>1</th>\n",
       "      <td>2</td>\n",
       "      <td>15-11-2013 03:45</td>\n",
       "      <td>Poole Matthew</td>\n",
       "      <td>MatthewPoole@gustr.com</td>\n",
       "      <td>ORG_INVITE</td>\n",
       "      <td>1.396238e+09</td>\n",
       "      <td>0</td>\n",
       "      <td>0</td>\n",
       "      <td>1</td>\n",
       "      <td>316.0</td>\n",
       "    </tr>\n",
       "    <tr>\n",
       "      <th>2</th>\n",
       "      <td>3</td>\n",
       "      <td>19-03-2013 23:14</td>\n",
       "      <td>Bottrill Mitchell</td>\n",
       "      <td>MitchellBottrill@gustr.com</td>\n",
       "      <td>ORG_INVITE</td>\n",
       "      <td>1.363735e+09</td>\n",
       "      <td>0</td>\n",
       "      <td>0</td>\n",
       "      <td>94</td>\n",
       "      <td>1525.0</td>\n",
       "    </tr>\n",
       "    <tr>\n",
       "      <th>3</th>\n",
       "      <td>4</td>\n",
       "      <td>21-05-2013 08:09</td>\n",
       "      <td>Clausen Nicklas</td>\n",
       "      <td>NicklasSClausen@yahoo.com</td>\n",
       "      <td>GUEST_INVITE</td>\n",
       "      <td>1.369210e+09</td>\n",
       "      <td>0</td>\n",
       "      <td>0</td>\n",
       "      <td>1</td>\n",
       "      <td>5151.0</td>\n",
       "    </tr>\n",
       "    <tr>\n",
       "      <th>4</th>\n",
       "      <td>5</td>\n",
       "      <td>17-01-2013 10:14</td>\n",
       "      <td>Raw Grace</td>\n",
       "      <td>GraceRaw@yahoo.com</td>\n",
       "      <td>GUEST_INVITE</td>\n",
       "      <td>1.358850e+09</td>\n",
       "      <td>0</td>\n",
       "      <td>0</td>\n",
       "      <td>193</td>\n",
       "      <td>5240.0</td>\n",
       "    </tr>\n",
       "  </tbody>\n",
       "</table>\n",
       "</div>"
      ],
      "text/plain": [
       "   object_id     creation_time               name                       email  \\\n",
       "0          1  22-04-2014 03:53     Clausen August    AugustCClausen@yahoo.com   \n",
       "1          2  15-11-2013 03:45      Poole Matthew      MatthewPoole@gustr.com   \n",
       "2          3  19-03-2013 23:14  Bottrill Mitchell  MitchellBottrill@gustr.com   \n",
       "3          4  21-05-2013 08:09    Clausen Nicklas   NicklasSClausen@yahoo.com   \n",
       "4          5  17-01-2013 10:14          Raw Grace          GraceRaw@yahoo.com   \n",
       "\n",
       "  creation_source  last_session_creation_time  opted_in_to_mailing_list  \\\n",
       "0    GUEST_INVITE                1.398139e+09                         1   \n",
       "1      ORG_INVITE                1.396238e+09                         0   \n",
       "2      ORG_INVITE                1.363735e+09                         0   \n",
       "3    GUEST_INVITE                1.369210e+09                         0   \n",
       "4    GUEST_INVITE                1.358850e+09                         0   \n",
       "\n",
       "   enabled_for_marketing_drip  org_id  invited_by_user_id  \n",
       "0                           0      11             10803.0  \n",
       "1                           0       1               316.0  \n",
       "2                           0      94              1525.0  \n",
       "3                           0       1              5151.0  \n",
       "4                           0     193              5240.0  "
      ]
     },
     "execution_count": 78,
     "metadata": {},
     "output_type": "execute_result"
    }
   ],
   "source": [
    "# TakeHome User Data Frame\n",
    "df.describe()\n",
    "df.head()"
   ]
  },
  {
   "cell_type": "code",
   "execution_count": 81,
   "id": "3123f35e",
   "metadata": {},
   "outputs": [],
   "source": [
    "# DF2 Convert Time stamp to date time\n",
    "df['last_session_creation_time'] = pd.to_datetime(df['last_session_creation_time'],unit='ms')"
   ]
  },
  {
   "cell_type": "code",
   "execution_count": 80,
   "id": "e9f1c4b6",
   "metadata": {},
   "outputs": [
    {
     "data": {
      "text/plain": [
       "creation_source\n",
       "GUEST_INVITE          2163\n",
       "ORG_INVITE            4254\n",
       "PERSONAL_PROJECTS     2111\n",
       "SIGNUP                2087\n",
       "SIGNUP_GOOGLE_AUTH    1385\n",
       "Name: object_id, dtype: int64"
      ]
     },
     "execution_count": 80,
     "metadata": {},
     "output_type": "execute_result"
    }
   ],
   "source": [
    "# Group user by creation source\n",
    "df.groupby('creation_source')['object_id'].count()"
   ]
  },
  {
   "cell_type": "code",
   "execution_count": 82,
   "id": "1095df5d",
   "metadata": {},
   "outputs": [
    {
     "name": "stdout",
     "output_type": "stream",
     "text": [
      "                time_stamp  user_id  visited    diff\n",
      "2      2013-11-29 03:45:04        2        1 14 days\n",
      "3      2013-12-09 03:45:04        2        1 10 days\n",
      "4      2013-12-25 03:45:04        2        1 16 days\n",
      "5      2013-12-31 03:45:04        2        1  6 days\n",
      "6      2014-01-08 03:45:04        2        1  8 days\n",
      "...                    ...      ...      ...     ...\n",
      "207902 2014-06-01 11:04:47    11988        1  5 days\n",
      "207906 2014-04-25 14:22:45    11991        1  5 days\n",
      "207907 2014-04-28 14:22:45    11991        1  3 days\n",
      "207908 2014-05-17 14:22:45    11991        1 19 days\n",
      "207909 2014-05-30 14:22:45    11991        1 13 days\n",
      "\n",
      "[199094 rows x 4 columns]\n"
     ]
    }
   ],
   "source": [
    "\"\"\"#convert to datetimes\n",
    "df2['time_stamp'] = pd.to_datetime(df2['time_stamp'])\n",
    "\n",
    "#7 days timedelta\n",
    "t = pd.Timedelta(7, unit='d')\n",
    "\n",
    "f = lambda x: x.apply(lambda y: (x.between(y - t, y).sum()))\n",
    "df2['new'] = df2.groupby('user_id')['time_stamp'].apply(f)\n",
    "print (df2)\"\"\"\n",
    "\n",
    "#convert to datetimes\n",
    "df2['time_stamp'] = pd.to_datetime(df2['time_stamp'])\n",
    "\n",
    "# Find Difference in the user_login\n",
    "df2['diff'] = df2.sort_values(['user_id','time_stamp']).groupby('user_id')['time_stamp'].diff()\n",
    "\n",
    "# Drop users with no difference in login days\n",
    "df3 = df2.dropna(subset=['diff'])\n",
    "print (df3)"
   ]
  },
  {
   "cell_type": "code",
   "execution_count": 83,
   "id": "9fc424e0",
   "metadata": {},
   "outputs": [
    {
     "name": "stderr",
     "output_type": "stream",
     "text": [
      "C:\\Users\\pjpra\\AppData\\Local\\Temp\\ipykernel_19640\\809627670.py:2: SettingWithCopyWarning: \n",
      "A value is trying to be set on a copy of a slice from a DataFrame.\n",
      "Try using .loc[row_indexer,col_indexer] = value instead\n",
      "\n",
      "See the caveats in the documentation: https://pandas.pydata.org/pandas-docs/stable/user_guide/indexing.html#returning-a-view-versus-a-copy\n",
      "  df3['Days']= df3['diff'].astype('timedelta64[D]')\n",
      "C:\\Users\\pjpra\\AppData\\Local\\Temp\\ipykernel_19640\\809627670.py:3: SettingWithCopyWarning: \n",
      "A value is trying to be set on a copy of a slice from a DataFrame\n",
      "\n",
      "See the caveats in the documentation: https://pandas.pydata.org/pandas-docs/stable/user_guide/indexing.html#returning-a-view-versus-a-copy\n",
      "  df3.drop('diff',axis=1,inplace=True)\n"
     ]
    },
    {
     "data": {
      "text/plain": [
       "time_stamp    datetime64[ns]\n",
       "user_id                int64\n",
       "visited                int64\n",
       "Days                 float64\n",
       "dtype: object"
      ]
     },
     "execution_count": 83,
     "metadata": {},
     "output_type": "execute_result"
    }
   ],
   "source": [
    "# Get days from the diff and drop diff\n",
    "df3['Days']= df3['diff'].astype('timedelta64[D]')\n",
    "df3.drop('diff',axis=1,inplace=True)\n",
    "df3.dtypes"
   ]
  },
  {
   "cell_type": "code",
   "execution_count": 84,
   "id": "f452f224",
   "metadata": {},
   "outputs": [
    {
     "name": "stderr",
     "output_type": "stream",
     "text": [
      "C:\\Users\\pjpra\\AppData\\Local\\Temp\\ipykernel_19640\\2987313970.py:3: FutureWarning: Indexing with multiple keys (implicitly converted to a tuple of keys) will be deprecated, use a list instead.\n",
      "  dfd4 = dfd3.groupby('user_id')['visited','Days'].sum()\n"
     ]
    }
   ],
   "source": [
    "# Filter out the max users\n",
    "dfd3 = df3[df3['Days'] < 7]\n",
    "dfd4 = dfd3.groupby('user_id')['visited','Days'].sum()\n",
    "dfd4['avg'] = dfd4.Days / dfd4.visited\n",
    "dfd4.head()\n",
    "dfd5 = dfd4[dfd4['avg'] < 7]"
   ]
  },
  {
   "cell_type": "code",
   "execution_count": 138,
   "id": "4c6d88f0",
   "metadata": {},
   "outputs": [
    {
     "data": {
      "text/html": [
       "<div>\n",
       "<style scoped>\n",
       "    .dataframe tbody tr th:only-of-type {\n",
       "        vertical-align: middle;\n",
       "    }\n",
       "\n",
       "    .dataframe tbody tr th {\n",
       "        vertical-align: top;\n",
       "    }\n",
       "\n",
       "    .dataframe thead th {\n",
       "        text-align: right;\n",
       "    }\n",
       "</style>\n",
       "<table border=\"1\" class=\"dataframe\">\n",
       "  <thead>\n",
       "    <tr style=\"text-align: right;\">\n",
       "      <th></th>\n",
       "      <th>object_id</th>\n",
       "      <th>creation_time</th>\n",
       "      <th>name</th>\n",
       "      <th>email</th>\n",
       "      <th>creation_source</th>\n",
       "      <th>last_session_creation_time</th>\n",
       "      <th>opted_in_to_mailing_list</th>\n",
       "      <th>enabled_for_marketing_drip</th>\n",
       "      <th>org_id</th>\n",
       "      <th>invited_by_user_id</th>\n",
       "      <th>visited</th>\n",
       "      <th>Days</th>\n",
       "      <th>avg</th>\n",
       "    </tr>\n",
       "  </thead>\n",
       "  <tbody>\n",
       "    <tr>\n",
       "      <th>0</th>\n",
       "      <td>2</td>\n",
       "      <td>15-11-2013 03:45</td>\n",
       "      <td>Poole Matthew</td>\n",
       "      <td>MatthewPoole@gustr.com</td>\n",
       "      <td>ORG_INVITE</td>\n",
       "      <td>1970-01-17 03:50:37.504</td>\n",
       "      <td>0</td>\n",
       "      <td>0</td>\n",
       "      <td>1</td>\n",
       "      <td>316.0</td>\n",
       "      <td>6</td>\n",
       "      <td>23.0</td>\n",
       "      <td>3.833333</td>\n",
       "    </tr>\n",
       "    <tr>\n",
       "      <th>1</th>\n",
       "      <td>10</td>\n",
       "      <td>16-01-2013 22:08</td>\n",
       "      <td>Santos Carla</td>\n",
       "      <td>CarlaFerreiraSantos@gustr.com</td>\n",
       "      <td>ORG_INVITE</td>\n",
       "      <td>1970-01-17 05:23:53.283</td>\n",
       "      <td>1</td>\n",
       "      <td>1</td>\n",
       "      <td>318</td>\n",
       "      <td>4143.0</td>\n",
       "      <td>279</td>\n",
       "      <td>468.0</td>\n",
       "      <td>1.677419</td>\n",
       "    </tr>\n",
       "    <tr>\n",
       "      <th>2</th>\n",
       "      <td>19</td>\n",
       "      <td>24-05-2013 14:56</td>\n",
       "      <td>Collins Arlene</td>\n",
       "      <td>ArleneRCollins@gmail.com</td>\n",
       "      <td>SIGNUP</td>\n",
       "      <td>1970-01-16 20:32:05.796</td>\n",
       "      <td>1</td>\n",
       "      <td>0</td>\n",
       "      <td>0</td>\n",
       "      <td>NaN</td>\n",
       "      <td>1</td>\n",
       "      <td>5.0</td>\n",
       "      <td>5.000000</td>\n",
       "    </tr>\n",
       "    <tr>\n",
       "      <th>3</th>\n",
       "      <td>20</td>\n",
       "      <td>06-03-2014 11:46</td>\n",
       "      <td>Helms Mikayla</td>\n",
       "      <td>lqyvjilf@uhzdq.com</td>\n",
       "      <td>SIGNUP</td>\n",
       "      <td>1970-01-17 05:16:03.998</td>\n",
       "      <td>0</td>\n",
       "      <td>0</td>\n",
       "      <td>58</td>\n",
       "      <td>NaN</td>\n",
       "      <td>4</td>\n",
       "      <td>7.0</td>\n",
       "      <td>1.750000</td>\n",
       "    </tr>\n",
       "    <tr>\n",
       "      <th>4</th>\n",
       "      <td>25</td>\n",
       "      <td>25-02-2014 00:11</td>\n",
       "      <td>Stone Elise</td>\n",
       "      <td>EliseStone@jourrapide.com</td>\n",
       "      <td>GUEST_INVITE</td>\n",
       "      <td>1970-01-17 03:02:53.473</td>\n",
       "      <td>1</td>\n",
       "      <td>0</td>\n",
       "      <td>81</td>\n",
       "      <td>6312.0</td>\n",
       "      <td>1</td>\n",
       "      <td>1.0</td>\n",
       "      <td>1.000000</td>\n",
       "    </tr>\n",
       "  </tbody>\n",
       "</table>\n",
       "</div>"
      ],
      "text/plain": [
       "   object_id     creation_time            name                          email  \\\n",
       "0          2  15-11-2013 03:45   Poole Matthew         MatthewPoole@gustr.com   \n",
       "1         10  16-01-2013 22:08    Santos Carla  CarlaFerreiraSantos@gustr.com   \n",
       "2         19  24-05-2013 14:56  Collins Arlene       ArleneRCollins@gmail.com   \n",
       "3         20  06-03-2014 11:46   Helms Mikayla             lqyvjilf@uhzdq.com   \n",
       "4         25  25-02-2014 00:11     Stone Elise      EliseStone@jourrapide.com   \n",
       "\n",
       "  creation_source last_session_creation_time  opted_in_to_mailing_list  \\\n",
       "0      ORG_INVITE    1970-01-17 03:50:37.504                         0   \n",
       "1      ORG_INVITE    1970-01-17 05:23:53.283                         1   \n",
       "2          SIGNUP    1970-01-16 20:32:05.796                         1   \n",
       "3          SIGNUP    1970-01-17 05:16:03.998                         0   \n",
       "4    GUEST_INVITE    1970-01-17 03:02:53.473                         1   \n",
       "\n",
       "   enabled_for_marketing_drip  org_id  invited_by_user_id  visited   Days  \\\n",
       "0                           0       1               316.0        6   23.0   \n",
       "1                           1     318              4143.0      279  468.0   \n",
       "2                           0       0                 NaN        1    5.0   \n",
       "3                           0      58                 NaN        4    7.0   \n",
       "4                           0      81              6312.0        1    1.0   \n",
       "\n",
       "        avg  \n",
       "0  3.833333  \n",
       "1  1.677419  \n",
       "2  5.000000  \n",
       "3  1.750000  \n",
       "4  1.000000  "
      ]
     },
     "execution_count": 138,
     "metadata": {},
     "output_type": "execute_result"
    }
   ],
   "source": [
    "#merge frequent users with master list\n",
    "dfm = pd.merge(df,dfd4,left_on='object_id', right_on='user_id')\n",
    "dfm.isnull().sum()\n",
    "dfm.head()"
   ]
  },
  {
   "cell_type": "code",
   "execution_count": 127,
   "id": "227d2c5e",
   "metadata": {},
   "outputs": [
    {
     "data": {
      "text/plain": [
       "creation_source\n",
       "GUEST_INVITE          493\n",
       "ORG_INVITE            762\n",
       "PERSONAL_PROJECTS     225\n",
       "SIGNUP                407\n",
       "SIGNUP_GOOGLE_AUTH    297\n",
       "Name: object_id, dtype: int64"
      ]
     },
     "execution_count": 127,
     "metadata": {},
     "output_type": "execute_result"
    }
   ],
   "source": [
    "# Group user by creation source\n",
    "gpr = dfm.groupby('creation_source')['object_id'].count()\n",
    "# It is evident that only users "
   ]
  },
  {
   "cell_type": "code",
   "execution_count": 91,
   "id": "0f892045",
   "metadata": {},
   "outputs": [
    {
     "name": "stdout",
     "output_type": "stream",
     "text": [
      "Enabled for marketing drip:\n",
      "Not Enabled: 1833 \n",
      "Enabled for: 351\n",
      "Opted in mailing list:\n",
      "Not Opted: 1607 \n",
      "Opted for: 577\n"
     ]
    }
   ],
   "source": [
    "# Count Users based on subscription to Marketing and Mailing\n",
    "# enabled for marketing drip\n",
    "j,k=0,0\n",
    "for i in dfm[\"enabled_for_marketing_drip\"]:\n",
    "    if i == 0:\n",
    "        j += 1\n",
    "    else:\n",
    "        k += 1\n",
    "print(\"Enabled for marketing drip:\\nNot Enabled:\",j,\"\\nEnabled for:\",k)\n",
    "\n",
    "# Opted in mailing list\n",
    "j,k=0,0\n",
    "for i in dfm[\"opted_in_to_mailing_list\"]:\n",
    "    if i == 0:\n",
    "        j += 1\n",
    "    else:\n",
    "        k += 1\n",
    "print(\"Opted in mailing list:\\nNot Opted:\",j,\"\\nOpted for:\",k)"
   ]
  },
  {
   "cell_type": "code",
   "execution_count": 143,
   "id": "bd3b07bd",
   "metadata": {},
   "outputs": [
    {
     "data": {
      "image/png": "[encoded data removed]",
      "text/plain": [
       "<Figure size 1000x500 with 1 Axes>"
      ]
     },
     "metadata": {},
     "output_type": "display_data"
    }
   ],
   "source": [
    "# Plot the frequent users category\n",
    "\n",
    "import matplotlib.pyplot as plt\n",
    "# setting the figure size\n",
    "plt.figure(figsize = (10, 5))\n",
    "\n",
    "# Bar Plot\n",
    "plt.hist(dfm.creation_source)\n",
    "plt.xlabel('Course Offered')\n",
    "plt.ylabel('No. of students enrolled')\n",
    "plt.title('students enrolled in different courses')\n",
    "plt.show()"
   ]
  },
  {
   "cell_type": "code",
   "execution_count": null,
   "id": "a41f0e9a",
   "metadata": {},
   "outputs": [],
   "source": []
  },
  {
   "cell_type": "code",
   "execution_count": null,
   "id": "7d39b132",
   "metadata": {},
   "outputs": [],
   "source": []
  },
  {
   "cell_type": "code",
   "execution_count": null,
   "id": "06f36d3c",
   "metadata": {},
   "outputs": [],
   "source": []
  },
  {
   "cell_type": "code",
   "execution_count": null,
   "id": "bfbb62ba",
   "metadata": {},
   "outputs": [],
   "source": []
  },
  {
   "cell_type": "code",
   "execution_count": null,
   "id": "f6556f2c",
   "metadata": {},
   "outputs": [],
   "source": []
  },
  {
   "cell_type": "code",
   "execution_count": null,
   "id": "9e0ee827",
   "metadata": {},
   "outputs": [],
   "source": []
  },
  {
   "cell_type": "code",
   "execution_count": null,
   "id": "dbdaaba2",
   "metadata": {},
   "outputs": [],
   "source": []
  },
  {
   "cell_type": "code",
   "execution_count": null,
   "id": "5872804d",
   "metadata": {},
   "outputs": [],
   "source": []
  },
  {
   "cell_type": "code",
   "execution_count": null,
   "id": "5cfee428",
   "metadata": {},
   "outputs": [],
   "source": []
  },
  {
   "cell_type": "code",
   "execution_count": null,
   "id": "fd36e8df",
   "metadata": {},
   "outputs": [],
   "source": []
  },
  {
   "cell_type": "code",
   "execution_count": null,
   "id": "cf70aa07",
   "metadata": {},
   "outputs": [],
   "source": []
  },
  {
   "cell_type": "code",
   "execution_count": null,
   "id": "de3376cb",
   "metadata": {},
   "outputs": [],
   "source": []
  }
 ],
 "metadata": {
  "kernelspec": {
   "display_name": "Python 3 (ipykernel)",
   "language": "python",
   "name": "python3"
  },
  "language_info": {
   "codemirror_mode": {
    "name": "ipython",
    "version": 3
   },
   "file_extension": ".py",
   "mimetype": "text/x-python",
   "name": "python",
   "nbconvert_exporter": "python",
   "pygments_lexer": "ipython3",
   "version": "3.10.7"
  }
 },
 "nbformat": 4,
 "nbformat_minor": 5
}
